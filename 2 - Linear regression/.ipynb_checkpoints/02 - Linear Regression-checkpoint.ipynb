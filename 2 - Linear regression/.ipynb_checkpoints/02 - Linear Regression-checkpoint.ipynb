{
 "cells": [
  {
   "cell_type": "markdown",
   "metadata": {},
   "source": [
    "# Linear Regression Exercise\n",
    "\n",
    "This exercise will guide you in implementing the Linear Regression Model to gain intuitions and develop a deeper understanding of the model. These concepts will form as the foundation for more complex models later on.\n",
    "\n",
    "**You will learn to:**\n",
    "- Build the general architecture of a Linear Regression Model.\n",
    "    - Implement the Analytical solution for the parameters that minimizes the loss function\n",
    "    - Implement the Approximate / Iterative solution for finding the parameters that minimizes the Loss function \n",
    "        - Initializing Parameters\n",
    "        - Calculating the Cost/Loss/Objective Function\n",
    "        - Computing for the gradients of the Loss function with respect to the parameters\n",
    "        - Implement gradient descent to update the paramters"
   ]
  },
  {
   "cell_type": "code",
   "execution_count": 1,
   "metadata": {
    "collapsed": true
   },
   "outputs": [],
   "source": [
    "import matplotlib.pyplot as plt\n",
    "%matplotlib inline\n",
    "import numpy as np\n",
    "import csv\n",
    "import math\n",
    "\n",
    "plt.style.use('ggplot')\n",
    "\n",
    "# Fix the seed of the random number \n",
    "# generator so that your results will match ours\n",
    "np.random.seed(1)\n",
    "\n",
    "%load_ext autoreload\n",
    "%autoreload 2"
   ]
  },
  {
   "cell_type": "markdown",
   "metadata": {},
   "source": [
    "**Dataset:**\n",
    "We will use the sales prices of houses in Kansas City as our dataset. We will only get one feature / variable (living area) to be able to visualize the dataset in a 2D plane. For the purposes of this exercise, we will only visualize the best fitting regression line / curve so we do not need to generate train/test splits."
   ]
  },
  {
   "cell_type": "code",
   "execution_count": 2,
   "metadata": {},
   "outputs": [
    {
     "name": "stdout",
     "output_type": "stream",
     "text": [
      "Training data shape: (128, 1)\n",
      "Ground truth values shape: (128, 1)\n"
     ]
    }
   ],
   "source": [
    "with open('house.csv', 'r') as csvfile:\n",
    "    rawData = csv.reader(csvfile)\n",
    "    next(csvfile)\n",
    "    X = np.empty((0,1), int)\n",
    "    y = np.empty((0,1), int)\n",
    "    for row in rawData:\n",
    "        X = np.vstack([X, np.array([int(row[3])])])\n",
    "        y = np.append(y, np.array([int(row[7])]))\n",
    "        \n",
    "y = np.expand_dims(y,1)\n",
    "\n",
    "print('Training data shape:',X.shape)\n",
    "print('Ground truth values shape:',y.shape)"
   ]
  },
  {
   "cell_type": "code",
   "execution_count": 3,
   "metadata": {},
   "outputs": [
    {
     "data": {
      "text/plain": [
       "<matplotlib.text.Text at 0x266ca7f5438>"
      ]
     },
     "execution_count": 3,
     "metadata": {},
     "output_type": "execute_result"
    },
    {
     "data": {
      "image/png": "[encoded data removed]",
      "text/plain": [
       "<matplotlib.figure.Figure at 0x266cc720128>"
      ]
     },
     "metadata": {},
     "output_type": "display_data"
    }
   ],
   "source": [
    "# plot the dataset\n",
    "plt.scatter(X,y)\n",
    "plt.ylabel(\"Price\")\n",
    "plt.xlabel(\"Living area\")"
   ]
  },
  {
   "cell_type": "markdown",
   "metadata": {},
   "source": [
    "From the plot above, we can clearly see the (positive) linear relationship between the living area of the house and its price.\n",
    "\n",
    "**Open `linear_regression.py`. **\n",
    "\n",
    "**(1.)** Fill in the code for the function `feature_transform`. This just appends a vector of ones to the dimension of your feature vector to accomodate for the bias / constant term in our hypothesis function.\n",
    "\n",
    "**(2.)** Under the `train` function, you will find an if statement checking if the parameter analytic_solution is set to True. Implement the analytic_solution solution without regularization.\n",
    "\n",
    "**(3.)** Fill in the code for the `predict` function."
   ]
  },
  {
   "cell_type": "code",
   "execution_count": null,
   "metadata": {
    "collapsed": true,
    "scrolled": true
   },
   "outputs": [],
   "source": [
    "from linear_regression import LinearRegression"
   ]
  },
  {
   "cell_type": "code",
   "execution_count": null,
   "metadata": {},
   "outputs": [],
   "source": [
    "regressor = LinearRegression()\n",
    "regressor.train(X,y,analytic_solution=True)\n",
    "\n",
    "print(\"Weights =\", regressor.params[\"W\"])"
   ]
  },
  {
   "cell_type": "markdown",
   "metadata": {},
   "source": [
    "**Sanity Check :** The resulting weight vector should be approximately equal to:\n",
    "\n",
    "Weights = [[    70.22631824]\n",
    " [-10091.12990913]]"
   ]
  },
  {
   "cell_type": "code",
   "execution_count": null,
   "metadata": {},
   "outputs": [],
   "source": [
    "# plot fitted regression line \n",
    "X_range = np.expand_dims(np.arange(1200,2800,1),1)\n",
    "y_range = regressor.predict(X_range)\n",
    "plt.scatter(X,y)\n",
    "plt.plot(X_range,y_range,\"b\")\n",
    "plt.ylabel(\"Price\")\n",
    "plt.xlabel(\"Living area\")"
   ]
  },
  {
   "cell_type": "markdown",
   "metadata": {},
   "source": [
    "Next is to implement the iterative solution to linear regression using gradient descent. \n",
    "\n",
    "**(4.)** Implement the function `initialize_weights`.\n",
    "\n",
    "**(5.)** Implement the function `loss`.\n",
    "\n",
    "**(6.)** Fill in the missing codes for the function `train`."
   ]
  },
  {
   "cell_type": "code",
   "execution_count": null,
   "metadata": {
    "collapsed": true
   },
   "outputs": [],
   "source": [
    "regressor = LinearRegression()\n",
    "losses = regressor.train(X,y,learning_rate=1e-8, num_iters=200, batch_size=128, verbose=False)"
   ]
  },
  {
   "cell_type": "code",
   "execution_count": null,
   "metadata": {},
   "outputs": [],
   "source": [
    "plt.plot(losses)\n",
    "plt.xlabel(\"Iteration\")\n",
    "plt.ylabel(\"Loss\")"
   ]
  },
  {
   "cell_type": "code",
   "execution_count": null,
   "metadata": {},
   "outputs": [],
   "source": [
    "print(\"Weights =\",regressor.params[\"W\"])"
   ]
  },
  {
   "cell_type": "markdown",
   "metadata": {},
   "source": [
    "**Sanity Check :** The loss curve should be decreasing exponentially."
   ]
  },
  {
   "cell_type": "code",
   "execution_count": null,
   "metadata": {},
   "outputs": [],
   "source": [
    "# plot fitted line \n",
    "X_range = np.expand_dims(np.arange(1200,2800,1),1)\n",
    "y_range = regressor.predict(X_range)\n",
    "plt.scatter(X,y)\n",
    "plt.plot(X_range,y_range,\"b\")\n",
    "plt.ylabel(\"Price\")\n",
    "plt.xlabel(\"Living area\")"
   ]
  },
  {
   "cell_type": "markdown",
   "metadata": {
    "collapsed": true
   },
   "source": [
    "Try increasing the learning rate to 1e-6. What happened and why?"
   ]
  },
  {
   "cell_type": "code",
   "execution_count": null,
   "metadata": {
    "collapsed": true
   },
   "outputs": [],
   "source": []
  },
  {
   "cell_type": "code",
   "execution_count": null,
   "metadata": {
    "collapsed": true
   },
   "outputs": [],
   "source": []
  }
 ],
 "metadata": {
  "kernelspec": {
   "display_name": "Python 3",
   "language": "python",
   "name": "python3"
  },
  "language_info": {
   "codemirror_mode": {
    "name": "ipython",
    "version": 3
   },
   "file_extension": ".py",
   "mimetype": "text/x-python",
   "name": "python",
   "nbconvert_exporter": "python",
   "pygments_lexer": "ipython3",
   "version": "3.6.1"
  }
 },
 "nbformat": 4,
 "nbformat_minor": 1
}
